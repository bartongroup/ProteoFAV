{
 "cells": [
  {
   "cell_type": "markdown",
   "metadata": {},
   "source": [
    "# ProteoFAV - Protein Features, Annotations and Variants\n",
    "\n",
    "Open-source framework for simple and fast integration of protein structure data with sequence annotations and genetic variation.\n"
   ]
  },
  {
   "cell_type": "markdown",
   "metadata": {},
   "source": [
    "## Installing and configuration\n",
    "View instructions provided in the main README.md available at https://github.com/bartongroup/ProteoFAV"
   ]
  },
  {
   "cell_type": "markdown",
   "metadata": {},
   "source": [
    "## Example Usage"
   ]
  },
  {
   "cell_type": "code",
   "execution_count": 1,
   "metadata": {},
   "outputs": [],
   "source": [
    "# ipython magics to keep reloading the project (during testing)\n",
    "%load_ext autoreload\n",
    "%autoreload 2"
   ]
  },
  {
   "cell_type": "code",
   "execution_count": 2,
   "metadata": {},
   "outputs": [],
   "source": [
    "# Setting Logging Level\n",
    "from proteofav.config import logging\n",
    "logger = logging.getLogger()\n",
    "assert len(logger.handlers) == 1\n",
    "handler = logger.handlers[0]\n",
    "handler.setLevel(logging.WARNING)"
   ]
  },
  {
   "cell_type": "markdown",
   "metadata": {},
   "source": [
    "### Downloading a protein structure in mmCIF and PDB format"
   ]
  },
  {
   "cell_type": "code",
   "execution_count": 3,
   "metadata": {
    "collapsed": true
   },
   "outputs": [],
   "source": [
    "import os\n",
    "from proteofav.structures import mmCIF, PDB\n",
    "\n",
    "pdb_id = \"2pah\"\n",
    "\n",
    "# create tmp dir\n",
    "out_dir = os.path.join(os.getcwd(), \"tmp\")\n",
    "os.makedirs(out_dir, exist_ok=True)\n",
    "\n",
    "# output file names\n",
    "out_mmcif = os.path.join(out_dir, \"{}.cif\".format(pdb_id))\n",
    "out_mmcif_bio = os.path.join(out_dir, \"{}_bio.cif\".format(pdb_id))\n",
    "out_pdb = os.path.join(out_dir, \"{}.pdb\".format(pdb_id))\n",
    "\n",
    "# download structures\n",
    "mmCIF.download(identifier=pdb_id, filename=out_mmcif)\n",
    "mmCIF.download(identifier=pdb_id, filename=out_mmcif_bio, \n",
    "               bio_unit=True, bio_unit_preferred=True)\n",
    "PDB.download(identifier=pdb_id, filename=out_pdb)\n",
    "\n",
    "assert os.path.exists(out_mmcif)\n",
    "assert os.path.exists(out_mmcif_bio)\n",
    "assert os.path.exists(out_pdb)\n"
   ]
  },
  {
   "cell_type": "markdown",
   "metadata": {},
   "source": [
    "### Loading the structures onto a Pandas DataFrame"
   ]
  },
  {
   "cell_type": "code",
   "execution_count": 4,
   "metadata": {},
   "outputs": [
    {
     "name": "stdout",
     "output_type": "stream",
     "text": [
      "  group_PDB  id type_symbol label_atom_id label_alt_id label_comp_id  \\\n",
      "0      ATOM   1           N             N            .           VAL   \n",
      "1      ATOM   2           C            CA            .           VAL   \n",
      "2      ATOM   3           C             C            .           VAL   \n",
      "3      ATOM   4           O             O            .           VAL   \n",
      "4      ATOM   5           C            CB            .           VAL   \n",
      "\n",
      "  label_asym_id label_entity_id label_seq_id pdbx_PDB_ins_code  \\\n",
      "0             A               1            1                 ?   \n",
      "1             A               1            1                 ?   \n",
      "2             A               1            1                 ?   \n",
      "3             A               1            1                 ?   \n",
      "4             A               1            1                 ?   \n",
      "\n",
      "         ...         Cartn_z  occupancy  B_iso_or_equiv  pdbx_formal_charge  \\\n",
      "0        ...          18.770        1.0           56.51                   ?   \n",
      "1        ...          20.244        1.0           59.09                   ?   \n",
      "2        ...          20.700        1.0           44.63                   ?   \n",
      "3        ...          20.204        1.0           59.84                   ?   \n",
      "4        ...          20.638        1.0           53.90                   ?   \n",
      "\n",
      "   auth_seq_id auth_comp_id auth_asym_id auth_atom_id pdbx_PDB_model_num  \\\n",
      "0          118          VAL            A            N                  1   \n",
      "1          118          VAL            A           CA                  1   \n",
      "2          118          VAL            A            C                  1   \n",
      "3          118          VAL            A            O                  1   \n",
      "4          118          VAL            A           CB                  1   \n",
      "\n",
      "  pdbe_label_seq_id  \n",
      "0                 1  \n",
      "1                 1  \n",
      "2                 1  \n",
      "3                 1  \n",
      "4                 1  \n",
      "\n",
      "[5 rows x 22 columns]\n",
      "Index(['group_PDB', 'id', 'type_symbol', 'label_atom_id', 'label_alt_id',\n",
      "       'label_comp_id', 'label_asym_id', 'label_entity_id', 'label_seq_id',\n",
      "       'pdbx_PDB_ins_code', 'Cartn_x', 'Cartn_y', 'Cartn_z', 'occupancy',\n",
      "       'B_iso_or_equiv', 'pdbx_formal_charge', 'auth_seq_id', 'auth_comp_id',\n",
      "       'auth_asym_id', 'auth_atom_id', 'pdbx_PDB_model_num',\n",
      "       'pdbe_label_seq_id'],\n",
      "      dtype='object')\n"
     ]
    }
   ],
   "source": [
    "mmcif = mmCIF.read(filename=out_mmcif)\n",
    "print(mmcif.head())\n",
    "print(mmcif.columns)\n"
   ]
  },
  {
   "cell_type": "code",
   "execution_count": 5,
   "metadata": {},
   "outputs": [
    {
     "name": "stdout",
     "output_type": "stream",
     "text": [
      "  group_PDB  id type_symbol label_atom_id label_alt_id label_comp_id  \\\n",
      "0      ATOM   1           N             N            .           VAL   \n",
      "1      ATOM   2           C            CA            .           VAL   \n",
      "2      ATOM   3           C             C            .           VAL   \n",
      "3      ATOM   4           O             O            .           VAL   \n",
      "4      ATOM   5           C            CB            .           VAL   \n",
      "\n",
      "  label_asym_id label_entity_id label_seq_id pdbx_PDB_ins_code  \\\n",
      "0             A               1            1                 ?   \n",
      "1             A               1            1                 ?   \n",
      "2             A               1            1                 ?   \n",
      "3             A               1            1                 ?   \n",
      "4             A               1            1                 ?   \n",
      "\n",
      "         ...         B_iso_or_equiv  pdbx_formal_charge  auth_seq_id  \\\n",
      "0        ...                  56.51                   ?          118   \n",
      "1        ...                  59.09                   ?          118   \n",
      "2        ...                  44.63                   ?          118   \n",
      "3        ...                  59.84                   ?          118   \n",
      "4        ...                  53.90                   ?          118   \n",
      "\n",
      "   auth_comp_id  auth_asym_id auth_atom_id pdbx_PDB_model_num  \\\n",
      "0           VAL             A            N                  1   \n",
      "1           VAL             A           CA                  1   \n",
      "2           VAL             A            C                  1   \n",
      "3           VAL             A            O                  1   \n",
      "4           VAL             A           CB                  1   \n",
      "\n",
      "  pdbe_label_seq_id orig_label_asym_id orig_auth_asym_id  \n",
      "0                 1                  A                 A  \n",
      "1                 1                  A                 A  \n",
      "2                 1                  A                 A  \n",
      "3                 1                  A                 A  \n",
      "4                 1                  A                 A  \n",
      "\n",
      "[5 rows x 24 columns]\n",
      "Index(['group_PDB', 'id', 'type_symbol', 'label_atom_id', 'label_alt_id',\n",
      "       'label_comp_id', 'label_asym_id', 'label_entity_id', 'label_seq_id',\n",
      "       'pdbx_PDB_ins_code', 'Cartn_x', 'Cartn_y', 'Cartn_z', 'occupancy',\n",
      "       'B_iso_or_equiv', 'pdbx_formal_charge', 'auth_seq_id', 'auth_comp_id',\n",
      "       'auth_asym_id', 'auth_atom_id', 'pdbx_PDB_model_num',\n",
      "       'pdbe_label_seq_id', 'orig_label_asym_id', 'orig_auth_asym_id'],\n",
      "      dtype='object')\n"
     ]
    }
   ],
   "source": [
    "mmcif_bio = mmCIF.read(filename=out_mmcif_bio)\n",
    "print(mmcif_bio.head())\n",
    "print(mmcif_bio.columns)"
   ]
  },
  {
   "cell_type": "code",
   "execution_count": 6,
   "metadata": {},
   "outputs": [
    {
     "name": "stdout",
     "output_type": "stream",
     "text": [
      "  group_PDB    id label_atom_id label_alt_id label_comp_id label_asym_id  \\\n",
      "0    HETATM  5316            FE            F           E .                 \n",
      "1    HETATM  5317            FE            F           E .                 \n",
      "\n",
      "  label_seq_id_full label_seq_id pdbx_PDB_ins_code  Cartn_x  \\\n",
      "0              FE C         FE C                 ?  . ?   6   \n",
      "1              FE D         FE D                 ?  . ? -39   \n",
      "\n",
      "         ...           Cartn_z occupancy B_iso_or_equiv type_symbol  \\\n",
      "0        ...          284 42.9    25 1.0         0  84.          FE   \n",
      "1        ...          235 43.6    84 1.0         0  91.          FE   \n",
      "\n",
      "  auth_atom_id auth_comp_id auth_asym_id auth_seq_id_full auth_seq_id  \\\n",
      "0           FE          E .                          FE C        FE C   \n",
      "1           FE          E .                          FE D        FE D   \n",
      "\n",
      "  pdbx_PDB_model_num  \n",
      "0                  1  \n",
      "1                  1  \n",
      "\n",
      "[2 rows x 21 columns]\n",
      "Index(['group_PDB', 'id', 'label_atom_id', 'label_alt_id', 'label_comp_id',\n",
      "       'label_asym_id', 'label_seq_id_full', 'label_seq_id',\n",
      "       'pdbx_PDB_ins_code', 'Cartn_x', 'Cartn_y', 'Cartn_z', 'occupancy',\n",
      "       'B_iso_or_equiv', 'type_symbol', 'auth_atom_id', 'auth_comp_id',\n",
      "       'auth_asym_id', 'auth_seq_id_full', 'auth_seq_id',\n",
      "       'pdbx_PDB_model_num'],\n",
      "      dtype='object')\n"
     ]
    }
   ],
   "source": [
    "# PDB Lines are parsed so that column names mimic those of the mmCIF format\n",
    "pdb = PDB.read(filename=out_pdb)\n",
    "print(pdb.head())\n",
    "print(pdb.columns)"
   ]
  },
  {
   "cell_type": "markdown",
   "metadata": {},
   "source": [
    "### Dowloading a SIFTS xml record for obtaining PDB-UniProt mapping"
   ]
  },
  {
   "cell_type": "code",
   "execution_count": 7,
   "metadata": {
    "collapsed": true
   },
   "outputs": [],
   "source": [
    "from proteofav.sifts import SIFTS\n",
    "\n",
    "# output file names\n",
    "out_sifts = os.path.join(out_dir, \"{}.xml\".format(pdb_id))\n",
    "\n",
    "SIFTS.download(identifier=pdb_id, filename=out_sifts)\n",
    "\n",
    "assert os.path.exists(out_sifts)"
   ]
  },
  {
   "cell_type": "markdown",
   "metadata": {},
   "source": [
    "### Loading the SIFTS record"
   ]
  },
  {
   "cell_type": "code",
   "execution_count": 8,
   "metadata": {},
   "outputs": [
    {
     "name": "stdout",
     "output_type": "stream",
     "text": [
      "   PDB_regionId  PDB_regionStart  PDB_regionEnd PDB_regionResNum  \\\n",
      "0             1                1            335                1   \n",
      "1             1                1            335                2   \n",
      "2             1                1            335                3   \n",
      "3             1                1            335                4   \n",
      "4             1                1            335                5   \n",
      "\n",
      "  PDB_dbAccessionId PDB_dbResNum PDB_dbResName PDB_dbChainId PDB_Annotation  \\\n",
      "0              2pah          118           VAL             A       Observed   \n",
      "1              2pah          119           PRO             A       Observed   \n",
      "2              2pah          120           TRP             A       Observed   \n",
      "3              2pah          121           PHE             A       Observed   \n",
      "4              2pah          122           PRO             A       Observed   \n",
      "\n",
      "  PDB_entityId         ...          SCOP_regionEnd  SCOP_regionResNum  \\\n",
      "0            A         ...                     335                  1   \n",
      "1            A         ...                     335                  2   \n",
      "2            A         ...                     335                  3   \n",
      "3            A         ...                     335                  4   \n",
      "4            A         ...                     335                  5   \n",
      "\n",
      "   SCOP_dbAccessionId PDB_codeSecondaryStructure PDB_nameSecondaryStructure  \\\n",
      "0               42581                          T                       loop   \n",
      "1               42581                          T                       loop   \n",
      "2               42581                          T                       loop   \n",
      "3               42581                          T                       loop   \n",
      "4               42581                          T                       loop   \n",
      "\n",
      "  Pfam_regionId Pfam_regionStart  Pfam_regionEnd  Pfam_regionResNum  \\\n",
      "0             -                0               0                NaN   \n",
      "1             1                2             332                  2   \n",
      "2             1                2             332                  3   \n",
      "3             1                2             332                  4   \n",
      "4             1                2             332                  5   \n",
      "\n",
      "   Pfam_dbAccessionId  \n",
      "0                 NaN  \n",
      "1             PF00351  \n",
      "2             PF00351  \n",
      "3             PF00351  \n",
      "4             PF00351  \n",
      "\n",
      "[5 rows x 34 columns]\n"
     ]
    }
   ],
   "source": [
    "sifts = SIFTS.read(filename=out_sifts)\n",
    "print(sifts.head())"
   ]
  },
  {
   "cell_type": "markdown",
   "metadata": {},
   "source": [
    "### Dowloading a DSSP record for obtaining Secondary Structure information"
   ]
  },
  {
   "cell_type": "code",
   "execution_count": 9,
   "metadata": {},
   "outputs": [
    {
     "name": "stdout",
     "output_type": "stream",
     "text": [
      "True\n"
     ]
    }
   ],
   "source": [
    "from proteofav.dssp import DSSP\n",
    "\n",
    "# output file names\n",
    "out_dssp = os.path.join(out_dir, \"{}.dssp\".format(pdb_id))\n",
    "\n",
    "DSSP.download(identifier=pdb_id, filename=out_dssp)\n",
    "\n",
    "# sometimes fecthing from the DSSP FTP server at ftp://ftp.cmbi.ru.nl/pub/molbio/data/dssp/ times out...\n",
    "print(os.path.exists(out_dssp))"
   ]
  },
  {
   "cell_type": "markdown",
   "metadata": {},
   "source": [
    "### Loading the DSSP record"
   ]
  },
  {
   "cell_type": "code",
   "execution_count": 10,
   "metadata": {},
   "outputs": [
    {
     "name": "stdout",
     "output_type": "stream",
     "text": [
      "   RES RES_FULL INSCODE CHAIN AA SS  ACC    TCO  KAPPA  ALPHA    PHI    PSI\n",
      "0  118      118             A  V     127  0.000  360.0  360.0  360.0  124.7\n",
      "1  119      119             A  P      42 -0.071  360.0 -105.4  -51.6  149.9\n",
      "2  120      120             A  W     120 -0.593   41.9 -178.8  -81.0  139.2\n",
      "3  121      121             A  F      17 -0.980   33.0  -92.9 -138.9  150.9\n",
      "4  122      122             A  P       4 -0.405   27.9 -176.6  -65.3  130.9\n"
     ]
    }
   ],
   "source": [
    "dssp = DSSP.read(filename=out_dssp)\n",
    "print(dssp.head())"
   ]
  },
  {
   "cell_type": "markdown",
   "metadata": {},
   "source": [
    "### Dowload a PDBe Validation XML record"
   ]
  },
  {
   "cell_type": "code",
   "execution_count": 11,
   "metadata": {},
   "outputs": [],
   "source": [
    "from proteofav.validation import Validation\n",
    "\n",
    "out_validation = os.path.join(out_dir, \"{}_validation.xml\".format(pdb_id))\n",
    "\n",
    "Validation.download(identifier=pdb_id, filename=out_validation)\n",
    "\n",
    "assert os.path.exists(out_validation)"
   ]
  },
  {
   "cell_type": "markdown",
   "metadata": {},
   "source": [
    "### Loading the Validation record"
   ]
  },
  {
   "cell_type": "code",
   "execution_count": 12,
   "metadata": {},
   "outputs": [
    {
     "name": "stdout",
     "output_type": "stream",
     "text": [
      "  validation_rama validation_ligRSRnbrMean validation_chain validation_ent  \\\n",
      "0             NaN                      NaN                A              1   \n",
      "1         Favored                      NaN                A              1   \n",
      "2         Favored                      NaN                A              1   \n",
      "3         Favored                      NaN                A              1   \n",
      "4         Favored                      NaN                A              1   \n",
      "\n",
      "  validation_altcode validation_rota validation_icode  \\\n",
      "0                  .               t                ?   \n",
      "1                  .          Cg_exo                ?   \n",
      "2                  .             t90                ?   \n",
      "3                  .             p90                ?   \n",
      "4                  .         Cg_endo                ?   \n",
      "\n",
      "  validation_ligRSRnbrStdev validation_ligRSRnumnbrs validation_resname  \\\n",
      "0                       NaN                      NaN                VAL   \n",
      "1                       NaN                      NaN                PRO   \n",
      "2                       NaN                      NaN                TRP   \n",
      "3                       NaN                      NaN                PHE   \n",
      "4                       NaN                      NaN                PRO   \n",
      "\n",
      "        ...       validation_lig_rsrz_nbr_id  validation_ligRSRZ  \\\n",
      "0       ...                              NaN                 NaN   \n",
      "1       ...                              NaN                 NaN   \n",
      "2       ...                              NaN                 NaN   \n",
      "3       ...                              NaN                 NaN   \n",
      "4       ...                              NaN                 NaN   \n",
      "\n",
      "   validation_flippable-sidechain validation_model  validation_said  \\\n",
      "0                             NaN                1                A   \n",
      "1                             NaN                1                A   \n",
      "2                             NaN                1                A   \n",
      "3                             NaN                1                A   \n",
      "4                             NaN                1                A   \n",
      "\n",
      "  validation_rsrz  validation_psi validation_mogul-ignore validation_owab  \\\n",
      "0          -0.160             NaN                     NaN           52.97   \n",
      "1          -0.274           149.9                     NaN           28.84   \n",
      "2          -0.874           139.2                     NaN           33.47   \n",
      "3          -0.308           150.9                     NaN           39.98   \n",
      "4          -0.204           130.9                     NaN           26.14   \n",
      "\n",
      "  validation_rscc  \n",
      "0           0.896  \n",
      "1           0.960  \n",
      "2           0.961  \n",
      "3           0.920  \n",
      "4           0.973  \n",
      "\n",
      "[5 rows x 27 columns]\n"
     ]
    }
   ],
   "source": [
    "validation = Validation.read(filename=out_validation)\n",
    "print(validation.head())"
   ]
  },
  {
   "cell_type": "markdown",
   "metadata": {},
   "source": [
    "### Select only CA residues in for a single chain"
   ]
  },
  {
   "cell_type": "code",
   "execution_count": 13,
   "metadata": {},
   "outputs": [
    {
     "name": "stdout",
     "output_type": "stream",
     "text": [
      "   group_PDB  id type_symbol label_atom_id label_alt_id label_comp_id  \\\n",
      "1       ATOM   2           C            CA            .           VAL   \n",
      "8       ATOM   9           C            CA            .           PRO   \n",
      "15      ATOM  16           C            CA            .           TRP   \n",
      "29      ATOM  30           C            CA            .           PHE   \n",
      "40      ATOM  41           C            CA            .           PRO   \n",
      "\n",
      "   label_asym_id label_entity_id label_seq_id pdbx_PDB_ins_code  \\\n",
      "1              A               1            1                 ?   \n",
      "8              A               1            2                 ?   \n",
      "15             A               1            3                 ?   \n",
      "29             A               1            4                 ?   \n",
      "40             A               1            5                 ?   \n",
      "\n",
      "         ...         B_iso_or_equiv  pdbx_formal_charge  auth_seq_id  \\\n",
      "1        ...                  59.09                   ?          118   \n",
      "8        ...                  20.13                   ?          119   \n",
      "15       ...                  33.96                   ?          120   \n",
      "29       ...                  34.42                   ?          121   \n",
      "40       ...                  28.65                   ?          122   \n",
      "\n",
      "    auth_comp_id  auth_asym_id auth_atom_id pdbx_PDB_model_num  \\\n",
      "1            VAL             A           CA                  1   \n",
      "8            PRO             A           CA                  1   \n",
      "15           TRP             A           CA                  1   \n",
      "29           PHE             A           CA                  1   \n",
      "40           PRO             A           CA                  1   \n",
      "\n",
      "   pdbe_label_seq_id label_seq_id_full auth_seq_id_full  \n",
      "1                  1                 1              118  \n",
      "8                  2                 2              119  \n",
      "15                 3                 3              120  \n",
      "29                 4                 4              121  \n",
      "40                 5                 5              122  \n",
      "\n",
      "[5 rows x 24 columns]\n"
     ]
    }
   ],
   "source": [
    "from proteofav.structures import filter_structures\n",
    "\n",
    "mmcif_sel = filter_structures(mmcif, excluded_cols=None,\n",
    "                              models='first', chains='A', res=None, res_full=None,\n",
    "                              comps=None, atoms='CA', lines=None, category='auth',\n",
    "                              residue_agg=False, agg_method='centroid',\n",
    "                              add_res_full=True, add_atom_altloc=False, reset_atom_id=True,\n",
    "                              remove_altloc=False, remove_hydrogens=True, remove_partial_res=False)\n",
    "print(mmcif_sel.head())"
   ]
  },
  {
   "cell_type": "markdown",
   "metadata": {},
   "source": [
    "### Aggregating atoms residue-by-residue"
   ]
  },
  {
   "cell_type": "code",
   "execution_count": 14,
   "metadata": {},
   "outputs": [
    {
     "name": "stdout",
     "output_type": "stream",
     "text": [
      "   index pdbx_PDB_model_num auth_asym_id auth_seq_id group_PDB  id  \\\n",
      "0      0                  1            A         118      ATOM   1   \n",
      "1      1                  1            A         119      ATOM   8   \n",
      "2      2                  1            A         120      ATOM  15   \n",
      "3      3                  1            A         121      ATOM  29   \n",
      "4      4                  1            A         122      ATOM  40   \n",
      "\n",
      "  type_symbol label_atom_id label_alt_id label_comp_id        ...         \\\n",
      "0           N             N            .           VAL        ...          \n",
      "1           N             N            .           PRO        ...          \n",
      "2           N             N            .           TRP        ...          \n",
      "3           N             N            .           PHE        ...          \n",
      "4           N             N            .           PRO        ...          \n",
      "\n",
      "  pdbx_PDB_ins_code   Cartn_x    Cartn_y    Cartn_z  occupancy  \\\n",
      "0                 ? -7.310714  21.031714  20.424143        1.0   \n",
      "1                 ? -4.434571  21.470714  22.630714        1.0   \n",
      "2                 ? -1.007000  15.673429  23.737071        1.0   \n",
      "3                 ? -5.282455  15.784000  26.269091        1.0   \n",
      "4                 ? -2.392571  13.578286  28.745714        1.0   \n",
      "\n",
      "   B_iso_or_equiv  pdbx_formal_charge  auth_comp_id  auth_atom_id  \\\n",
      "0       52.974286                   ?           VAL             N   \n",
      "1       28.844286                   ?           PRO             N   \n",
      "2       33.466429                   ?           TRP             N   \n",
      "3       39.981818                   ?           PHE             N   \n",
      "4       26.141429                   ?           PRO             N   \n",
      "\n",
      "  pdbe_label_seq_id  \n",
      "0                 1  \n",
      "1                 2  \n",
      "2                 3  \n",
      "3                 4  \n",
      "4                 5  \n",
      "\n",
      "[5 rows x 23 columns]\n"
     ]
    }
   ],
   "source": [
    "from proteofav.structures import residues_aggregation\n",
    "\n",
    "mmcif_sel = residues_aggregation(mmcif, agg_method='centroid', category='auth')\n",
    "print(mmcif_sel.head())"
   ]
  },
  {
   "cell_type": "markdown",
   "metadata": {
    "collapsed": true
   },
   "source": [
    "### Write a PDB-formatted file from a mmCIF structure"
   ]
  },
  {
   "cell_type": "code",
   "execution_count": 15,
   "metadata": {
    "collapsed": true
   },
   "outputs": [],
   "source": [
    "new_out_pdb = os.path.join(out_dir, \"{}_new.pdb\".format(pdb_id)) \n",
    "PDB.write(table=mmcif, filename=new_out_pdb)"
   ]
  },
  {
   "cell_type": "markdown",
   "metadata": {},
   "source": [
    "### Get a UniProt-PDB mapping from the SIFTS xml"
   ]
  },
  {
   "cell_type": "code",
   "execution_count": 16,
   "metadata": {},
   "outputs": [
    {
     "name": "stdout",
     "output_type": "stream",
     "text": [
      "   PDB_regionId  PDB_regionStart  PDB_regionEnd PDB_regionResNum  \\\n",
      "0             1                1            335                1   \n",
      "1             1                1            335                2   \n",
      "2             1                1            335                3   \n",
      "3             1                1            335                4   \n",
      "4             1                1            335                5   \n",
      "\n",
      "  PDB_dbAccessionId PDB_dbResNum PDB_dbResName PDB_dbChainId PDB_Annotation  \\\n",
      "0              2pah          118           VAL             A       Observed   \n",
      "1              2pah          119           PRO             A       Observed   \n",
      "2              2pah          120           TRP             A       Observed   \n",
      "3              2pah          121           PHE             A       Observed   \n",
      "4              2pah          122           PRO             A       Observed   \n",
      "\n",
      "  PDB_entityId         ...          SCOP_regionEnd  SCOP_regionResNum  \\\n",
      "0            A         ...                     335                  1   \n",
      "1            A         ...                     335                  2   \n",
      "2            A         ...                     335                  3   \n",
      "3            A         ...                     335                  4   \n",
      "4            A         ...                     335                  5   \n",
      "\n",
      "   SCOP_dbAccessionId PDB_codeSecondaryStructure PDB_nameSecondaryStructure  \\\n",
      "0               42581                          T                       loop   \n",
      "1               42581                          T                       loop   \n",
      "2               42581                          T                       loop   \n",
      "3               42581                          T                       loop   \n",
      "4               42581                          T                       loop   \n",
      "\n",
      "  Pfam_regionId Pfam_regionStart  Pfam_regionEnd  Pfam_regionResNum  \\\n",
      "0             -                0               0                NaN   \n",
      "1             1                2             332                  2   \n",
      "2             1                2             332                  3   \n",
      "3             1                2             332                  4   \n",
      "4             1                2             332                  5   \n",
      "\n",
      "   Pfam_dbAccessionId  \n",
      "0                 NaN  \n",
      "1             PF00351  \n",
      "2             PF00351  \n",
      "3             PF00351  \n",
      "4             PF00351  \n",
      "\n",
      "[5 rows x 34 columns]\n",
      "['P00439']\n"
     ]
    }
   ],
   "source": [
    "sifts = SIFTS.read(filename=out_sifts)\n",
    "print(sifts.head())\n",
    "\n",
    "uniprot_ids = sifts.UniProt_dbAccessionId.unique()\n",
    "print(uniprot_ids)"
   ]
  },
  {
   "cell_type": "markdown",
   "metadata": {},
   "source": [
    "### Downloading a sequence Annotation (GFF) from UniProt"
   ]
  },
  {
   "cell_type": "code",
   "execution_count": 17,
   "metadata": {},
   "outputs": [],
   "source": [
    "from proteofav.annotation import Annotation\n",
    "\n",
    "out_annotation = os.path.join(out_dir, \"{}.gff\".format(uniprot_ids[0]))\n",
    "\n",
    "Annotation.download(identifier=uniprot_ids[0], filename=out_annotation)\n",
    "\n",
    "assert os.path.exists(out_annotation)"
   ]
  },
  {
   "cell_type": "markdown",
   "metadata": {},
   "source": [
    "### Loading the sequence Annotation"
   ]
  },
  {
   "cell_type": "code",
   "execution_count": 18,
   "metadata": {},
   "outputs": [
    {
     "name": "stdout",
     "output_type": "stream",
     "text": [
      "     NAME     SOURCE           TYPE START  END SCORE STRAND FRAME  \\\n",
      "0  P00439  UniProtKB          Chain     1  452     .      .     .   \n",
      "1  P00439  UniProtKB         Domain    36  114     .      .     .   \n",
      "2  P00439  UniProtKB  Metal binding   285  285     .      .     .   \n",
      "3  P00439  UniProtKB  Metal binding   290  290     .      .     .   \n",
      "4  P00439  UniProtKB  Metal binding   330  330     .      .     .   \n",
      "\n",
      "                                               GROUP Dbxref                ID  \\\n",
      "0  ID=PRO_0000205548;Note=Phenylalanine-4-hydroxy...    NaN  [PRO_0000205548]   \n",
      "1  Note=ACT;Ontology_term=ECO:0000255;evidence=EC...    NaN               NaN   \n",
      "2  Note=Iron%3B via tele nitrogen;Ontology_term=E...    NaN               NaN   \n",
      "3  Note=Iron%3B via tele nitrogen;Ontology_term=E...    NaN               NaN   \n",
      "4  Note=Iron;Ontology_term=ECO:0000250;evidence=E...    NaN               NaN   \n",
      "\n",
      "                            Note  Ontology_term  \\\n",
      "0  [Phenylalanine-4-hydroxylase]            NaN   \n",
      "1                          [ACT]  [ECO:0000255]   \n",
      "2      [Iron; via tele nitrogen]  [ECO:0000250]   \n",
      "3      [Iron; via tele nitrogen]  [ECO:0000250]   \n",
      "4                         [Iron]  [ECO:0000250]   \n",
      "\n",
      "                                 evidence  \n",
      "0                                     NaN  \n",
      "1  [ECO:0000255|PROSITE-ProRule:PRU01007]  \n",
      "2          [ECO:0000250|UniProtKB:P04176]  \n",
      "3          [ECO:0000250|UniProtKB:P04176]  \n",
      "4          [ECO:0000250|UniProtKB:P04176]  \n"
     ]
    }
   ],
   "source": [
    "annotation = Annotation.read(filename=out_annotation)\n",
    "print(annotation.head())"
   ]
  },
  {
   "cell_type": "markdown",
   "metadata": {},
   "source": [
    "### Downloading variants based on the UniProt ID"
   ]
  },
  {
   "cell_type": "code",
   "execution_count": 19,
   "metadata": {
    "collapsed": true
   },
   "outputs": [],
   "source": [
    "from proteofav.variants import Variants\n",
    "\n",
    "# we could simply fetch the variants from UniProt and Ensembl\n",
    "# Variants.fetch(identifier=uniprot_ids[0], id_source='uniprot', \n",
    "#                synonymous=False, uniprot_vars=True,\n",
    "#                ensembl_germline_vars=True, ensembl_somatic_vars=True)\n",
    "\n",
    "# but `select_variants` handles merging of Ensembl vars for us\n",
    "uniprot, ensembl = Variants.select(identifier=uniprot_ids[0], id_source='uniprot', \n",
    "                                   synonymous=False, uniprot_vars=True,\n",
    "                                   ensembl_germline_vars=True, ensembl_somatic_vars=True)\n"
   ]
  },
  {
   "cell_type": "markdown",
   "metadata": {},
   "source": [
    "### Glancing over the variants"
   ]
  },
  {
   "cell_type": "code",
   "execution_count": 20,
   "metadata": {},
   "outputs": [
    {
     "name": "stdout",
     "output_type": "stream",
     "text": [
      "  accession alternativeSequence association_description association_disease  \\\n",
      "0    P00439                   C                    mild                True   \n",
      "1    P00439                   N                     NaN                True   \n",
      "2    P00439                 del                     NaN                 NaN   \n",
      "3    P00439                   F                     NaN                True   \n",
      "4    P00439                   L          haplotypes 1,4                True   \n",
      "\n",
      "  association_evidences_code  \\\n",
      "0                ECO:0000269   \n",
      "1                ECO:0000269   \n",
      "2                        NaN   \n",
      "3                        NaN   \n",
      "4                ECO:0000269   \n",
      "\n",
      "         association_evidences_source_alternativeUrl  \\\n",
      "0          http://europepmc.org/abstract/MED/9048935   \n",
      "1  [http://europepmc.org/abstract/MED/12501224, h...   \n",
      "2                                                NaN   \n",
      "3                                                NaN   \n",
      "4  [http://europepmc.org/abstract/MED/12501224, h...   \n",
      "\n",
      "                   association_evidences_source_id  \\\n",
      "0                                          9048935   \n",
      "1                    [12501224, 22513348, 1358789]   \n",
      "2                                              NaN   \n",
      "3                                              NaN   \n",
      "4  [12501224, 1672290, 8889590, 22513348, 1672294]   \n",
      "\n",
      "  association_evidences_source_name  \\\n",
      "0                            PubMed   \n",
      "1                            PubMed   \n",
      "2                               NaN   \n",
      "3                               NaN   \n",
      "4                            PubMed   \n",
      "\n",
      "                    association_evidences_source_url  \\\n",
      "0         http://www.ncbi.nlm.nih.gov/pubmed/9048935   \n",
      "1  [http://www.ncbi.nlm.nih.gov/pubmed/12501224, ...   \n",
      "2                                                NaN   \n",
      "3                                                NaN   \n",
      "4  [http://www.ncbi.nlm.nih.gov/pubmed/12501224, ...   \n",
      "\n",
      "                                    association_name  \\\n",
      "0                              Phenylketonuria (PKU)   \n",
      "1  [Phenylketonuria (PKU), Hyperphenylalaninemia ...   \n",
      "2                                                NaN   \n",
      "3                              Phenylketonuria (PKU)   \n",
      "4                              Phenylketonuria (PKU)   \n",
      "\n",
      "                         ...                         siftPrediction siftScore  \\\n",
      "0                        ...                            deleterious         0   \n",
      "1                        ...                              tolerated         1   \n",
      "2                        ...                                    NaN       NaN   \n",
      "3                        ...                                    NaN       NaN   \n",
      "4                        ...                            deleterious         0   \n",
      "\n",
      "  somaticStatus  sourceType taxid     type wildType    xrefs_id  \\\n",
      "0             0     uniprot  9606  VARIANT        Y  rs62514927   \n",
      "1             0     uniprot  9606  VARIANT        D  rs62644499   \n",
      "2             0     uniprot  9606  VARIANT        d         NaN   \n",
      "3             0     uniprot  9606  VARIANT        S  rs62508577   \n",
      "4             0     uniprot  9606  VARIANT        P   rs5030851   \n",
      "\n",
      "                    xrefs_name  \\\n",
      "0       [dbSNP, Ensembl, ExAC]   \n",
      "1       [dbSNP, Ensembl, ExAC]   \n",
      "2                          NaN   \n",
      "3             [dbSNP, Ensembl]   \n",
      "4  [dbSNP, Ensembl, ESP, ExAC]   \n",
      "\n",
      "                                           xrefs_url  \n",
      "0  [http://www.ncbi.nlm.nih.gov/SNP/snp_ref.cgi?t...  \n",
      "1  [http://www.ncbi.nlm.nih.gov/SNP/snp_ref.cgi?t...  \n",
      "2                                                NaN  \n",
      "3  [http://www.ncbi.nlm.nih.gov/SNP/snp_ref.cgi?t...  \n",
      "4  [http://www.ncbi.nlm.nih.gov/SNP/snp_ref.cgi?t...  \n",
      "\n",
      "[5 rows x 42 columns]\n"
     ]
    }
   ],
   "source": [
    "print(uniprot.head())"
   ]
  },
  {
   "cell_type": "code",
   "execution_count": 21,
   "metadata": {},
   "outputs": [
    {
     "name": "stdout",
     "output_type": "stream",
     "text": [
      "            Parent         allele  begin clinical_significance   codons  \\\n",
      "0  ENST00000553106  HGMD_MUTATION    257                    []            \n",
      "1  ENST00000553106            C/T     75                    []  Gat/Aat   \n",
      "2  ENST00000553106  HGMD_MUTATION     47                    []            \n",
      "3  ENST00000553106  HGMD_MUTATION    100                    []            \n",
      "4  ENST00000553106  HGMD_MUTATION    261                    []            \n",
      "\n",
      "           consequenceType  end          feature_type frequency  \\\n",
      "0  coding_sequence_variant  257  transcript_variation       NaN   \n",
      "1         missense_variant   75  transcript_variation       NaN   \n",
      "2  coding_sequence_variant   47  transcript_variation       NaN   \n",
      "3  coding_sequence_variant  100  transcript_variation       NaN   \n",
      "4  coding_sequence_variant  261  transcript_variation       NaN   \n",
      "\n",
      "   polyphenScore residues  seq_region_name  siftScore      translation  \\\n",
      "0            NaN           ENSP00000448059        NaN  ENSP00000448059   \n",
      "1          0.014      D/N  ENSP00000448059       0.49  ENSP00000448059   \n",
      "2            NaN           ENSP00000448059        NaN  ENSP00000448059   \n",
      "3            NaN           ENSP00000448059        NaN  ENSP00000448059   \n",
      "4            NaN           ENSP00000448059        NaN  ENSP00000448059   \n",
      "\n",
      "      xrefs_id  \n",
      "0     CM010966  \n",
      "1  rs767453024  \n",
      "2     CM941126  \n",
      "3     CM992944  \n",
      "4     CM910287  \n"
     ]
    }
   ],
   "source": [
    "print(ensembl.head())"
   ]
  },
  {
   "cell_type": "markdown",
   "metadata": {},
   "source": [
    "### Merging down the two Variants tables"
   ]
  },
  {
   "cell_type": "code",
   "execution_count": 22,
   "metadata": {},
   "outputs": [
    {
     "name": "stdout",
     "output_type": "stream",
     "text": [
      "            Parent accession allele alternativeSequence  \\\n",
      "0              NaN    P00439    NaN                 del   \n",
      "1              NaN    P00439    NaN                   P   \n",
      "2              NaN    P00439    NaN                   Y   \n",
      "3  ENST00000553106    P00439  A/C/G                   *   \n",
      "4              NaN    P00439    NaN                   L   \n",
      "\n",
      "  association_description association_disease association_evidences_code  \\\n",
      "0                     NaN                 NaN                        NaN   \n",
      "1                     NaN                True                ECO:0000269   \n",
      "2                     NaN                 NaN                        NaN   \n",
      "3                     NaN                 NaN                        NaN   \n",
      "4                     NaN                True                ECO:0000269   \n",
      "\n",
      "  association_evidences_source_alternativeUrl association_evidences_source_id  \\\n",
      "0                                         NaN                             NaN   \n",
      "1  http://europepmc.org/abstract/MED/22513348                        22513348   \n",
      "2                                         NaN                             NaN   \n",
      "3                                         NaN                             NaN   \n",
      "4  http://europepmc.org/abstract/MED/23792259                        23792259   \n",
      "\n",
      "  association_evidences_source_name  \\\n",
      "0                               NaN   \n",
      "1                            PubMed   \n",
      "2                               NaN   \n",
      "3                               NaN   \n",
      "4                            PubMed   \n",
      "\n",
      "                         ...                         siftScore somaticStatus  \\\n",
      "0                        ...                               NaN           0.0   \n",
      "1                        ...                               NaN           0.0   \n",
      "2                        ...                              0.01           0.0   \n",
      "3                        ...                               NaN           0.0   \n",
      "4                        ...                               NaN           0.0   \n",
      "\n",
      "          sourceType   taxid      translation     type wildType     xrefs_id  \\\n",
      "0            uniprot  9606.0              NaN  VARIANT        d          NaN   \n",
      "1            uniprot  9606.0              NaN  VARIANT        L          NaN   \n",
      "2  large_scale_study  9606.0              NaN  VARIANT        F  COSM1510886   \n",
      "3  large_scale_study  9606.0  ENSP00000448059  VARIANT        Y   rs62507332   \n",
      "4            uniprot  9606.0              NaN  VARIANT        F          NaN   \n",
      "\n",
      "            xrefs_name                                          xrefs_url  \n",
      "0                  NaN                                                NaN  \n",
      "1                  NaN                                                NaN  \n",
      "2       cosmic curated  http://cancer.sanger.ac.uk/cosmic/mutation/ove...  \n",
      "3  [1000Genomes, ExAC]  [http://www.ensembl.org/Homo_sapiens/Variation...  \n",
      "4                  NaN                                                NaN  \n",
      "\n",
      "[5 rows x 50 columns]\n"
     ]
    }
   ],
   "source": [
    "from proteofav.mergers import uniprot_vars_ensembl_vars_merger\n",
    "\n",
    "variants = uniprot_vars_ensembl_vars_merger(uniprot, ensembl)\n",
    "print(variants.head())"
   ]
  },
  {
   "cell_type": "markdown",
   "metadata": {},
   "source": [
    "### Merging the Structure, DSSP, SIFTS, Validation, Annotation and Variants data onto a single DataFrame"
   ]
  },
  {
   "cell_type": "code",
   "execution_count": 23,
   "metadata": {},
   "outputs": [
    {
     "name": "stdout",
     "output_type": "stream",
     "text": [
      "   index pdbx_PDB_model_num auth_asym_id auth_seq_id group_PDB  id  \\\n",
      "0      0                  1            A         118      ATOM   1   \n",
      "1      1                  1            A         119      ATOM   8   \n",
      "2      1                  1            A         119      ATOM   8   \n",
      "3      2                  1            A         120      ATOM  15   \n",
      "4      3                  1            A         121      ATOM  29   \n",
      "\n",
      "  type_symbol label_atom_id label_alt_id label_comp_id  \\\n",
      "0           N             N            .           VAL   \n",
      "1           N             N            .           PRO   \n",
      "2           N             N            .           PRO   \n",
      "3           N             N            .           TRP   \n",
      "4           N             N            .           PHE   \n",
      "\n",
      "                         ...                             siftScore  \\\n",
      "0                        ...                                  0.14   \n",
      "1                        ...                                  0.01   \n",
      "2                        ...                          (0.03, 0.01)   \n",
      "3                        ...                                     0   \n",
      "4                        ...                                   NaN   \n",
      "\n",
      "  somaticStatus         sourceType   taxid      translation     type  \\\n",
      "0           0.0  large_scale_study  9606.0  ENSP00000448059  VARIANT   \n",
      "1           0.0  large_scale_study  9606.0  ENSP00000448059  VARIANT   \n",
      "2           0.0  large_scale_study  9606.0  ENSP00000448059  VARIANT   \n",
      "3           0.0  large_scale_study  9606.0  ENSP00000448059  VARIANT   \n",
      "4           0.0            uniprot  9606.0              NaN  VARIANT   \n",
      "\n",
      "   wildType     xrefs_id           xrefs_name  \\\n",
      "0         V  rs776442422                 ExAC   \n",
      "1         P  rs398123292  (ExAC, 1000Genomes)   \n",
      "2         P  rs374999809          (ExAC, ESP)   \n",
      "3         W  rs775327122                 ExAC   \n",
      "4         F          NaN                  NaN   \n",
      "\n",
      "                                           xrefs_url  \n",
      "0  http://exac.broadinstitute.org/awesome?query=r...  \n",
      "1  (http://www.ensembl.org/Homo_sapiens/Variation...  \n",
      "2  (http://exac.broadinstitute.org/awesome?query=...  \n",
      "3  http://exac.broadinstitute.org/awesome?query=r...  \n",
      "4                                                NaN  \n",
      "\n",
      "[5 rows x 155 columns]\n"
     ]
    }
   ],
   "source": [
    "from proteofav.mergers import table_merger\n",
    "\n",
    "# before merging we need to select/filter or add extra columns with necessary data\n",
    "from proteofav.structures import filter_structures\n",
    "from proteofav.dssp import filter_dssp\n",
    "from proteofav.sifts import filter_sifts\n",
    "from proteofav.validation import filter_validation\n",
    "from proteofav.annotation import filter_annotation\n",
    "\n",
    "# does residue aggregation and adds 'res_full' and removes hydrogens\n",
    "mmcif = filter_structures(mmcif, excluded_cols=None,\n",
    "                          models='first', chains=None, res=None, res_full=None,\n",
    "                          comps=None, atoms=None, lines=None, category='auth',\n",
    "                          residue_agg=True, agg_method='centroid',\n",
    "                          add_res_full=True, add_atom_altloc=False, reset_atom_id=True,\n",
    "                          remove_altloc=False, remove_hydrogens=True, remove_partial_res=False)\n",
    "\n",
    "# adds 'full_chain' and 'rsa'\n",
    "dssp = filter_dssp(dssp, excluded_cols=None,\n",
    "                   chains=None, chains_full=None, res=None,\n",
    "                   add_full_chain=True, add_ss_reduced=False,\n",
    "                   add_rsa=True, rsa_method=\"Sander\", add_rsa_class=False,\n",
    "                   reset_res_id=True)\n",
    "\n",
    "# does nothing\n",
    "sifts = filter_sifts(sifts, excluded_cols=None, chains=None,\n",
    "                     chain_auth=None, res=None, uniprot=None, site=None)\n",
    "\n",
    "# adds 'res_full'\n",
    "validation = filter_validation(validation, excluded_cols=None, chains=None, res=None,\n",
    "                      add_res_full=True)\n",
    "\n",
    "# annotation residue aggregation\n",
    "annotation = filter_annotation(annotation, identifier=None, annotation_agg=True, \n",
    "                               query_type='', group_residues=True,\n",
    "                               drop_types=('Helix', 'Beta strand', 'Turn', 'Chain'))\n",
    "\n",
    "table = table_merger(mmcif_table=mmcif, dssp_table=dssp, sifts_table=sifts,\n",
    "                     validation_table=validation, annotation_table=annotation,\n",
    "                     variants_table=variants)\n",
    "print(table.head())"
   ]
  },
  {
   "cell_type": "markdown",
   "metadata": {},
   "source": [
    "### Automating all the work done so far with the Merger class"
   ]
  },
  {
   "cell_type": "code",
   "execution_count": 24,
   "metadata": {},
   "outputs": [
    {
     "name": "stdout",
     "output_type": "stream",
     "text": [
      "   index pdbx_PDB_model_num auth_asym_id auth_seq_id group_PDB  id  \\\n",
      "0      0                  1            A         118      ATOM   1   \n",
      "1      1                  1            A         119      ATOM   8   \n",
      "2      1                  1            A         119      ATOM   8   \n",
      "3      2                  1            A         120      ATOM  15   \n",
      "4      3                  1            A         121      ATOM  29   \n",
      "\n",
      "  type_symbol label_atom_id label_alt_id label_comp_id  \\\n",
      "0           N             N            .           VAL   \n",
      "1           N             N            .           PRO   \n",
      "2           N             N            .           PRO   \n",
      "3           N             N            .           TRP   \n",
      "4           N             N            .           PHE   \n",
      "\n",
      "                         ...                             siftScore  \\\n",
      "0                        ...                                  0.14   \n",
      "1                        ...                                  0.01   \n",
      "2                        ...                          (0.03, 0.01)   \n",
      "3                        ...                                     0   \n",
      "4                        ...                                   NaN   \n",
      "\n",
      "  somaticStatus         sourceType   taxid      translation     type  \\\n",
      "0           0.0  large_scale_study  9606.0  ENSP00000448059  VARIANT   \n",
      "1           0.0  large_scale_study  9606.0  ENSP00000448059  VARIANT   \n",
      "2           0.0  large_scale_study  9606.0  ENSP00000448059  VARIANT   \n",
      "3           0.0  large_scale_study  9606.0  ENSP00000448059  VARIANT   \n",
      "4           0.0            uniprot  9606.0              NaN  VARIANT   \n",
      "\n",
      "   wildType     xrefs_id           xrefs_name  \\\n",
      "0         V  rs776442422                 ExAC   \n",
      "1         P  rs398123292  (ExAC, 1000Genomes)   \n",
      "2         P  rs374999809          (ExAC, ESP)   \n",
      "3         W  rs775327122                 ExAC   \n",
      "4         F          NaN                  NaN   \n",
      "\n",
      "                                           xrefs_url  \n",
      "0  http://exac.broadinstitute.org/awesome?query=r...  \n",
      "1  (http://www.ensembl.org/Homo_sapiens/Variation...  \n",
      "2  (http://exac.broadinstitute.org/awesome?query=...  \n",
      "3  http://exac.broadinstitute.org/awesome?query=r...  \n",
      "4                                                NaN  \n",
      "\n",
      "[5 rows x 142 columns]\n"
     ]
    }
   ],
   "source": [
    "from proteofav.mergers import Tables\n",
    "\n",
    "# files are read/stored in the directories defined in the user defined config.ini file.\n",
    "table = Tables.generate(merge_tables=True, uniprot_id=None, pdb_id=pdb_id, bio_unit=False,\n",
    "                        sifts=True, dssp=False, validation=True, annotations=True, variants=True,\n",
    "                        residue_agg='centroid', overwrite=False)\n",
    "print(table.head())"
   ]
  }
 ],
 "metadata": {
  "kernelspec": {
   "display_name": "Python 3",
   "language": "python",
   "name": "python3"
  },
  "language_info": {
   "codemirror_mode": {
    "name": "ipython",
    "version": 3
   },
   "file_extension": ".py",
   "mimetype": "text/x-python",
   "name": "python",
   "nbconvert_exporter": "python",
   "pygments_lexer": "ipython3",
   "version": "3.6.3"
  }
 },
 "nbformat": 4,
 "nbformat_minor": 2
}
